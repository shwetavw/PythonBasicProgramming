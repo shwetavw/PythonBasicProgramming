{
 "cells": [
  {
   "cell_type": "markdown",
   "metadata": {},
   "source": [
    "# Programming Assignment-8"
   ]
  },
  {
   "cell_type": "markdown",
   "metadata": {},
   "source": [
    "### 1.\tWrite a Python Program to Add Two Matrices?"
   ]
  },
  {
   "cell_type": "code",
   "execution_count": 17,
   "metadata": {},
   "outputs": [
    {
     "name": "stdout",
     "output_type": "stream",
     "text": [
      "Enter the number of rows for Matrix-1 :2\n",
      "Enter the number of columns for Matrix-1 :3\n",
      "Enter the elements in matrix-1 :\n",
      "Enter elements for row(1) and column(1) : 1\n",
      "Enter elements for row(1) and column(2) : 2\n",
      "Enter elements for row(1) and column(3) : 3\n",
      "Enter elements for row(2) and column(1) : 4\n",
      "Enter elements for row(2) and column(2) : 5\n",
      "Enter elements for row(2) and column(3) : 6\n",
      "\n",
      "\n",
      "Enter the number of rows for Matrix-2 :2\n",
      "Enter the number of columns for Matrix-2 :3\n",
      "Enter the elements in matrix-2 :\n",
      "Enter elements for row(1) and column(1) : 1\n",
      "Enter elements for row(1) and column(2) : 3\n",
      "Enter elements for row(1) and column(3) : 5\n",
      "Enter elements for row(2) and column(1) : 2\n",
      "Enter elements for row(2) and column(2) : 4\n",
      "Enter elements for row(2) and column(3) : 6\n",
      "\n",
      "\n",
      "First matrix : [[1, 2, 3], [4, 5, 6]]\n",
      "Second matrix : [[1, 3, 5], [2, 4, 6]]\n",
      "Addition of [[1, 2, 3], [4, 5, 6]] and [[1, 3, 5], [2, 4, 6]] is [[2, 5, 8], [6, 9, 12]]\n"
     ]
    }
   ],
   "source": [
    "# Create a function to initialize matrix\n",
    "def Initialize_Matrix(seq):\n",
    "    # Take matrices from user   \n",
    "    rows = int(input(f\"Enter the number of rows for Matrix-{seq} :\"))\n",
    "    columns = int(input(f\"Enter the number of columns for Matrix-{seq} :\"))\n",
    "    \n",
    "    m = []\n",
    "    print(f\"Enter the elements in matrix-{seq} :\")\n",
    "    for i in range(rows):\n",
    "        l =[]        \n",
    "        for j in range(columns):\n",
    "            l.append(int(input(f\"Enter elements for row({i+1}) and column({j+1}) : \")))        \n",
    "        m.append(l)\n",
    "    print(\"\\n\")\n",
    "    return m\n",
    "\n",
    "# Create a function to initialize a zero matrix for required size\n",
    "def Initialize_Zero_Matrix(r,c):\n",
    "    m = []\n",
    "    for i in range(r):\n",
    "        l =[]        \n",
    "        for j in range(c):\n",
    "            l.append(0)        \n",
    "        m.append(l)\n",
    "    return m\n",
    "\n",
    "# Create a function to add two matrices\n",
    "def Add_Matrix(m1, m2):\n",
    "    if len(m1) == len(m2):\n",
    "        # Initialize a zero matrix \n",
    "        m = Initialize_Zero_Matrix(len(m1), len(m1[0]))\n",
    "    \n",
    "        for i in range(len(m1)):\n",
    "            for j in range(len(m1[0])):\n",
    "                m[i][j] = m1[i][j] + m2[i][j]\n",
    "\n",
    "        return f\"Addition of {m1} and {m2} is {m}\"\n",
    "    else:\n",
    "        return \"Invalid matrices, Matrix should be same size for addition\"\n",
    "    \n",
    "\n",
    "\n",
    "m1 = Initialize_Matrix(1)\n",
    "m2 = Initialize_Matrix(2)\n",
    "print(f\"First matrix : {m1}\")\n",
    "print(f\"Second matrix : {m2}\")\n",
    "print(Add_Matrix(m1,m2))"
   ]
  },
  {
   "cell_type": "markdown",
   "metadata": {},
   "source": [
    "### 2.\tWrite a Python Program to Multiply Two Matrices?"
   ]
  },
  {
   "cell_type": "code",
   "execution_count": 18,
   "metadata": {},
   "outputs": [
    {
     "name": "stdout",
     "output_type": "stream",
     "text": [
      "Enter the number of rows for Matrix-1 :2\n",
      "Enter the number of columns for Matrix-1 :2\n",
      "Enter the elements in matrix-1 :\n",
      "Enter elements for row(1) and column(1) : 2\n",
      "Enter elements for row(1) and column(2) : 4\n",
      "Enter elements for row(2) and column(1) : 1\n",
      "Enter elements for row(2) and column(2) : 2\n",
      "\n",
      "\n",
      "Enter the number of rows for Matrix-2 :2\n",
      "Enter the number of columns for Matrix-2 :4\n",
      "Enter the elements in matrix-2 :\n",
      "Enter elements for row(1) and column(1) : 1\n",
      "Enter elements for row(1) and column(2) : 2\n",
      "Enter elements for row(1) and column(3) : 3\n",
      "Enter elements for row(1) and column(4) : 4\n",
      "Enter elements for row(2) and column(1) : 5\n",
      "Enter elements for row(2) and column(2) : 6\n",
      "Enter elements for row(2) and column(3) : 7\n",
      "Enter elements for row(2) and column(4) : 8\n",
      "\n",
      "\n",
      "First matrix : [[2, 4], [1, 2]]\n",
      "Second matrix : [[1, 2, 3, 4], [5, 6, 7, 8]]\n",
      "Multiplication of [[2, 4], [1, 2]] and [[1, 2, 3, 4], [5, 6, 7, 8]] is [[22, 28, 34, 40], [11, 14, 17, 20]]\n"
     ]
    }
   ],
   "source": [
    "# Create a function to initialize matrix\n",
    "def Initialize_Matrix(seq):\n",
    "    # Take matrices from user   \n",
    "    rows = int(input(f\"Enter the number of rows for Matrix-{seq} :\"))\n",
    "    columns = int(input(f\"Enter the number of columns for Matrix-{seq} :\"))\n",
    "    \n",
    "    m = []\n",
    "    print(f\"Enter the elements in matrix-{seq} :\")\n",
    "    for i in range(rows):\n",
    "        l =[]        \n",
    "        for j in range(columns):\n",
    "            l.append(int(input(f\"Enter elements for row({i+1}) and column({j+1}) : \")))        \n",
    "        m.append(l)\n",
    "    print(\"\\n\")\n",
    "    return m\n",
    "\n",
    "# Create a function to initialize a zero matrix for required size\n",
    "def Initialize_Zero_Matrix(r,c):\n",
    "    m = []\n",
    "    for i in range(r):\n",
    "        l =[]        \n",
    "        for j in range(c):\n",
    "            l.append(0)        \n",
    "        m.append(l)\n",
    "    return m\n",
    "    \n",
    "# Create a function to add two matrices\n",
    "def Multiple_Matrix(m1, m2):\n",
    "    if len(m1[0]) == len(m2):\n",
    "        # Initialize a zero matrix \n",
    "        m = Initialize_Zero_Matrix(len(m1),len(m2[0]))\n",
    "        \n",
    "        for i in range(len(m1)):\n",
    "            for j in range(len(m2[0])):\n",
    "                for k in range(len(m2)):\n",
    "                    m[i][j] += m1[i][k] * m2[k][j]\n",
    "            \n",
    "        return f\"Multiplication of {m1} and {m2} is {m}\"\n",
    "    else:\n",
    "        return \"Invalid matrices, No. of columns in matrix m1 should be same as no. of rows in matrix m2 for multiplication\"\n",
    "    \n",
    "m1 = Initialize_Matrix(1)\n",
    "m2 = Initialize_Matrix(2)\n",
    "print(f\"First matrix : {m1}\")\n",
    "print(f\"Second matrix : {m2}\")\n",
    "print(Multiple_Matrix(m1,m2))"
   ]
  },
  {
   "cell_type": "markdown",
   "metadata": {},
   "source": [
    "### 3.\tWrite a Python Program to Transpose a Matrix?"
   ]
  },
  {
   "cell_type": "code",
   "execution_count": 22,
   "metadata": {},
   "outputs": [
    {
     "name": "stdout",
     "output_type": "stream",
     "text": [
      "Enter the number of rows for Matrix :3\n",
      "Enter the number of columns for Matrix :4\n",
      "Enter the elements in matrix :\n",
      "Enter elements for row(1) and column(1) : 1\n",
      "Enter elements for row(1) and column(2) : 3\n",
      "Enter elements for row(1) and column(3) : 5\n",
      "Enter elements for row(1) and column(4) : 7\n",
      "Enter elements for row(2) and column(1) : 2\n",
      "Enter elements for row(2) and column(2) : 4\n",
      "Enter elements for row(2) and column(3) : 6\n",
      "Enter elements for row(2) and column(4) : 8\n",
      "Enter elements for row(3) and column(1) : 1\n",
      "Enter elements for row(3) and column(2) : 2\n",
      "Enter elements for row(3) and column(3) : 3\n",
      "Enter elements for row(3) and column(4) : 4\n",
      "\n",
      "\n",
      "Original matrix before transpose :\n",
      "[1, 3, 5, 7]\n",
      "[2, 4, 6, 8]\n",
      "[1, 2, 3, 4]\n",
      "Matrix after transpose :\n",
      "[1, 2, 1]\n",
      "[3, 4, 2]\n",
      "[5, 6, 3]\n",
      "[7, 8, 4]\n"
     ]
    }
   ],
   "source": [
    "# Create a function to initialize matrix\n",
    "def Initialize_Matrix():\n",
    "    # Take matrices from user   \n",
    "    rows = int(input(f\"Enter the number of rows for Matrix :\"))\n",
    "    columns = int(input(f\"Enter the number of columns for Matrix :\"))\n",
    "    \n",
    "    m = []\n",
    "    print(f\"Enter the elements in matrix :\")\n",
    "    for i in range(rows):\n",
    "        l =[]        \n",
    "        for j in range(columns):\n",
    "            l.append(int(input(f\"Enter elements for row({i+1}) and column({j+1}) : \")))        \n",
    "        m.append(l)\n",
    "    print(\"\\n\")\n",
    "    return m\n",
    "\n",
    "# Create a function to initialize a zero matrix for required size\n",
    "def Initialize_Zero_Matrix(r,c):\n",
    "    m = []\n",
    "    for i in range(r):\n",
    "        l =[]        \n",
    "        for j in range(c):\n",
    "            l.append(0)        \n",
    "        m.append(l)\n",
    "    return m\n",
    "\n",
    "# Create a function to transpose matrix\n",
    "def Transpose_Matrix(m):\n",
    "    # Initialize a zero matrix \n",
    "    m = Initialize_Zero_Matrix(len(m1[0]), len(m1))\n",
    "\n",
    "    for i in range(len(m1[0])):\n",
    "        for j in range(len(m1)):\n",
    "            m[i][j] = m1[j][i]\n",
    "    \n",
    "    return m\n",
    "\n",
    "m1 = Initialize_Matrix()\n",
    "print(f\"Original matrix before transpose :\")\n",
    "for r in m1 :\n",
    "    print(r)\n",
    "\n",
    "m2 = Transpose_Matrix(m1)\n",
    "print(f\"Matrix after transpose :\")\n",
    "for r in m2:\n",
    "    print(r)\n",
    "    "
   ]
  },
  {
   "cell_type": "markdown",
   "metadata": {},
   "source": [
    "### 4.\tWrite a Python Program to Sort Words in Alphabetic Order?"
   ]
  },
  {
   "cell_type": "code",
   "execution_count": 2,
   "metadata": {},
   "outputs": [
    {
     "name": "stdout",
     "output_type": "stream",
     "text": [
      "Enter a sentence : this is python basic programming assignment from iNeuron class\n",
      "\n",
      "\n",
      "Original sentence : this is python basic programming assignment from iNeuron class\n",
      "Sentence after sorting words in alphabetic order : assignment basic class from iNeuron is programming python this\n"
     ]
    }
   ],
   "source": [
    "#Create a function to sort words\n",
    "def Sort_Words(sentence):\n",
    "    list_of_words = sentence.split()\n",
    "    list_of_words.sort()\n",
    "\n",
    "    return ' '.join(list_of_words)\n",
    "\n",
    "# Take a sentence from user\n",
    "sentence = input(\"Enter a sentence : \")\n",
    "\n",
    "print(\"\\n\")\n",
    "print(f\"Original sentence : {sentence}\")\n",
    "print(f\"Sentence after sorting words in alphabetic order : {Sort_Words(sentence)}\")"
   ]
  },
  {
   "cell_type": "markdown",
   "metadata": {},
   "source": [
    "### 5.\tWrite a Python Program to Remove Punctuation From a String?"
   ]
  },
  {
   "cell_type": "code",
   "execution_count": 1,
   "metadata": {},
   "outputs": [
    {
     "name": "stdout",
     "output_type": "stream",
     "text": [
      "Enter a string : this is @ python## ba%sic, programming. assignment?> from !iNeuron class$!!\n",
      "\n",
      "\n",
      "Original string : this is @ python## ba%sic, programming. assignment?> from !iNeuron class$!!\n",
      "String after removing punctuation : this is  python basic programming assignment from iNeuron class\n"
     ]
    }
   ],
   "source": [
    "#Create a function to remove punctuation\n",
    "def Remove_Punctuation(inputStr):\n",
    "    #possible punctuations are\n",
    "    punctuations = '''`~!@#$%^&*()_-{}[]\\;:'\"<,>./?'''    \n",
    "\n",
    "    for c in inputStr:\n",
    "        if c in punctuations:\n",
    "            inputStr = inputStr.replace(c,'') \n",
    "            \n",
    "    return inputStr\n",
    "\n",
    "# Take a string from user\n",
    "inputStr = input(\"Enter a string : \")\n",
    "\n",
    "print(\"\\n\")\n",
    "print(f\"Original string : {inputStr}\")\n",
    "print(f\"String after removing punctuation : {Remove_Punctuation(inputStr)}\")"
   ]
  },
  {
   "cell_type": "code",
   "execution_count": null,
   "metadata": {},
   "outputs": [],
   "source": []
  }
 ],
 "metadata": {
  "kernelspec": {
   "display_name": "Python 3",
   "language": "python",
   "name": "python3"
  },
  "language_info": {
   "codemirror_mode": {
    "name": "ipython",
    "version": 3
   },
   "file_extension": ".py",
   "mimetype": "text/x-python",
   "name": "python",
   "nbconvert_exporter": "python",
   "pygments_lexer": "ipython3",
   "version": "3.8.3rc1"
  }
 },
 "nbformat": 4,
 "nbformat_minor": 4
}
