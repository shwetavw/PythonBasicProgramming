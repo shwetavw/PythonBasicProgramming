{
 "cells": [
  {
   "cell_type": "markdown",
   "metadata": {},
   "source": [
    "# Programming Assignment-2"
   ]
  },
  {
   "cell_type": "markdown",
   "metadata": {},
   "source": [
    "### 1.\tWrite a Python program to convert kilometers to miles?"
   ]
  },
  {
   "cell_type": "code",
   "execution_count": 1,
   "metadata": {},
   "outputs": [
    {
     "name": "stdout",
     "output_type": "stream",
     "text": [
      "Enter length in kilometers : 3.5\n",
      "3.50 Kilometers is equal to 2.17 Miles\n"
     ]
    }
   ],
   "source": [
    "# Take length as input from user\n",
    "lenInKm = float(input(\"Enter length in kilometers : \"))\n",
    "\n",
    "# convert km into miles, 1 kilomters = 0.621371\n",
    "lenInMiles = lenInKm * 0.621371\n",
    "\n",
    "print(f\"{lenInKm:0.2f} Kilometers is equal to {lenInMiles:0.2f} Miles\")"
   ]
  },
  {
   "cell_type": "markdown",
   "metadata": {},
   "source": [
    "### 2.\tWrite a Python program to convert Celsius to Fahrenheit?"
   ]
  },
  {
   "cell_type": "code",
   "execution_count": 2,
   "metadata": {},
   "outputs": [
    {
     "name": "stdout",
     "output_type": "stream",
     "text": [
      "Enter temperature in celsius : 37.5\n",
      "37.5 degree Celsius is equal to 99.5 degree Fahrenheit\n"
     ]
    }
   ],
   "source": [
    "# Take temperature as input from user\n",
    "tempInCel = float(input(\"Enter temperature in celsius : \"))\n",
    "\n",
    "# convert celsius into fahrenheit\n",
    "tempInFahren = (tempInCel * 9/5) + 32\n",
    "\n",
    "print(f\"{tempInCel:0.1f} degree Celsius is equal to {tempInFahren:0.1f} degree Fahrenheit\")"
   ]
  },
  {
   "cell_type": "markdown",
   "metadata": {},
   "source": [
    "### 3.\tWrite a Python program to display calendar?"
   ]
  },
  {
   "cell_type": "code",
   "execution_count": 3,
   "metadata": {},
   "outputs": [
    {
     "name": "stdout",
     "output_type": "stream",
     "text": [
      "      May 2021\n",
      "Mo Tu We Th Fr Sa Su\n",
      "                1  2\n",
      " 3  4  5  6  7  8  9\n",
      "10 11 12 13 14 15 16\n",
      "17 18 19 20 21 22 23\n",
      "24 25 26 27 28 29 30\n",
      "31\n",
      "\n"
     ]
    }
   ],
   "source": [
    "# Import calender module\n",
    "import calendar\n",
    "import datetime\n",
    "\n",
    "# Assuming to print calendar for current month and year\n",
    "curr_year = datetime.date.today().year\n",
    "curr_month = datetime.date.today().month\n",
    "\n",
    "# print calendar\n",
    "print(calendar.month(curr_year, curr_month))"
   ]
  },
  {
   "cell_type": "markdown",
   "metadata": {},
   "source": [
    "### 4.\tWrite a Python program to solve quadratic equation?"
   ]
  },
  {
   "cell_type": "code",
   "execution_count": 4,
   "metadata": {},
   "outputs": [
    {
     "name": "stdout",
     "output_type": "stream",
     "text": [
      "Enter a non zero number : 5\n",
      "Enter a number : 50\n",
      "Enter a number : -5\n",
      "value of x are 2.48 and -252.48\n"
     ]
    }
   ],
   "source": [
    "\"\"\"\n",
    "A quadratic equation is ax*2 + bx + c = 0\n",
    "where a,b  and c are are real numbers and x is unknown variable\n",
    "formula to find value of x as\n",
    "(-b + sqrt(b*b - 4*a*c))/2*a\n",
    "(-b - sqrt(b*b - 4*a*c))/2*a\n",
    "where a cannot be zero\n",
    "\"\"\" \n",
    "\n",
    "# Take value of a,b and c from user and calculate value of x\n",
    "a = float(input(\"Enter a non zero number : \"))\n",
    "if a != 0.0:\n",
    "    b = float(input(\"Enter a number : \"))\n",
    "    c = float(input(\"Enter a number : \"))\n",
    "    \n",
    "    discriminant = b*b - 4*a*c\n",
    "    sqrtOfDiscriminant = abs(discriminant) ** 0.5\n",
    "    \n",
    "    if discriminant == 0.0:\n",
    "        print(f\"value of x is {-b/2*a}\")\n",
    "    elif discriminant > 0:\n",
    "        print(f\"value of x are {(-b + sqrtOfDiscriminant)/2*a:0.2f} and {(-b - sqrtOfDiscriminant)/2*a:0.2f}\")\n",
    "    else:\n",
    "        print(f\"value of x are {-b/2*a} + {(sqrtOfDiscriminant/2*a):0.2f}i and {-b/2*a} - {(sqrtOfDiscriminant/2*a):0.2f}i\")\n",
    "    \n",
    "else:\n",
    "    print(\"wrong quadratic equation\")\n",
    "    "
   ]
  },
  {
   "cell_type": "markdown",
   "metadata": {},
   "source": [
    "### 5.\tWrite a Python program to swap two variables without temp variable?"
   ]
  },
  {
   "cell_type": "code",
   "execution_count": 5,
   "metadata": {},
   "outputs": [
    {
     "name": "stdout",
     "output_type": "stream",
     "text": [
      "Enter a number : 5\n",
      "Enter an another number : 6\n",
      "value of variable 1 and 2 before swapping as 5, 6\n",
      "value of variable 1 and 2 after swapping as 6, 5\n"
     ]
    }
   ],
   "source": [
    "# Take value of variable from user input\n",
    "num1 = int(input(\"Enter a number : \"))\n",
    "num2 = int(input(\"Enter an another number : \"))\n",
    "print(f\"value of variable 1 and 2 before swapping as {num1}, {num2}\")\n",
    "\n",
    "# swap variable without temp variable\n",
    "num2 = num1 + num2\n",
    "num1 = num2 - num1\n",
    "num2 = num2 - num1\n",
    "print(f\"value of variable 1 and 2 after swapping as {num1}, {num2}\")"
   ]
  },
  {
   "cell_type": "code",
   "execution_count": null,
   "metadata": {},
   "outputs": [],
   "source": []
  }
 ],
 "metadata": {
  "kernelspec": {
   "display_name": "Python 3",
   "language": "python",
   "name": "python3"
  },
  "language_info": {
   "codemirror_mode": {
    "name": "ipython",
    "version": 3
   },
   "file_extension": ".py",
   "mimetype": "text/x-python",
   "name": "python",
   "nbconvert_exporter": "python",
   "pygments_lexer": "ipython3",
   "version": "3.8.3rc1"
  }
 },
 "nbformat": 4,
 "nbformat_minor": 4
}
