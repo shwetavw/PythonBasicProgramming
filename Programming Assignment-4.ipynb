{
 "cells": [
  {
   "cell_type": "markdown",
   "metadata": {},
   "source": [
    "# Programming Assignment-4"
   ]
  },
  {
   "cell_type": "markdown",
   "metadata": {},
   "source": [
    "### 1.\tWrite a Python Program to Find the Factorial of a Number?"
   ]
  },
  {
   "cell_type": "code",
   "execution_count": 84,
   "metadata": {},
   "outputs": [
    {
     "name": "stdout",
     "output_type": "stream",
     "text": [
      "Enter a number : 4\n",
      "Factorial of 4 is 24\n"
     ]
    }
   ],
   "source": [
    "# Take a number from user\n",
    "num = int(input(\"Enter a number : \"))\n",
    "\n",
    "if num < 0:\n",
    "    print(f\"Invalid input, enter a positive number\")\n",
    "elif num == 0:\n",
    "    print(f\"Factorial of {num} is 1\")\n",
    "else:\n",
    "    factorial = num\n",
    "    for i in range(1, num):\n",
    "        factorial = factorial * (num-i)\n",
    "\n",
    "    print(f\"Factorial of {num} is {factorial}\")"
   ]
  },
  {
   "cell_type": "markdown",
   "metadata": {},
   "source": [
    "### 2.\tWrite a Python Program to Display the multiplication Table?"
   ]
  },
  {
   "cell_type": "code",
   "execution_count": 44,
   "metadata": {},
   "outputs": [
    {
     "name": "stdout",
     "output_type": "stream",
     "text": [
      "Enter a number : 5\n",
      "Multiplicaton table of 5 as\n",
      "5 * 1 = 5\n",
      "5 * 2 = 10\n",
      "5 * 3 = 15\n",
      "5 * 4 = 20\n",
      "5 * 5 = 25\n",
      "5 * 6 = 30\n",
      "5 * 7 = 35\n",
      "5 * 8 = 40\n",
      "5 * 9 = 45\n",
      "5 * 10 = 50\n"
     ]
    }
   ],
   "source": [
    "# Take a number from user to display the multiplication table of entered number\n",
    "num = int(input(\"Enter a number : \"))\n",
    "\n",
    "print(f\"Multiplicaton table of {num} as\")\n",
    "for i in range(1, 11):\n",
    "    print(f\"{num} * {i} = {num*i}\")"
   ]
  },
  {
   "cell_type": "markdown",
   "metadata": {},
   "source": [
    "### 3.\tWrite a Python Program to Print the Fibonacci sequence?"
   ]
  },
  {
   "cell_type": "code",
   "execution_count": 78,
   "metadata": {},
   "outputs": [
    {
     "name": "stdout",
     "output_type": "stream",
     "text": [
      "Enter number of terms : 12\n",
      "Fibonacci sequence of 12 terms as : \n",
      "0 1 1 2 3 5 8 13 21 34 55 89 144 "
     ]
    }
   ],
   "source": [
    "# Take number of terms from user\n",
    "nterm = int(input(\"Enter number of terms : \"))\n",
    "\n",
    "if nterm <= 0:\n",
    "    print(f\"Invalid input, enter a positive number\")\n",
    "elif nterm == 1:\n",
    "    print(f\"Fibonacci sequence of {nterm} terms as : \")\n",
    "    print(nterm-1)\n",
    "else:    \n",
    "    n1 = 0\n",
    "    n2 = 1\n",
    "    print(f\"Fibonacci sequence of {nterm} terms as : \")\n",
    "    print(n1, n2, end=\" \")\n",
    "    for i in range(2, nterm+1):\n",
    "        n = n1 + n2\n",
    "        n1 = n2\n",
    "        n2 = n\n",
    "        print(n, end=\" \")"
   ]
  },
  {
   "cell_type": "markdown",
   "metadata": {},
   "source": [
    "### 4.\tWrite a Python Program to Check Armstrong Number?"
   ]
  },
  {
   "cell_type": "code",
   "execution_count": 38,
   "metadata": {},
   "outputs": [
    {
     "name": "stdout",
     "output_type": "stream",
     "text": [
      "Enter a number : 370\n",
      "Number 370 is an Armstrong\n"
     ]
    }
   ],
   "source": [
    "# Take a number from user\n",
    "num = int(input(\"Enter a number : \"))\n",
    "originalNo = num\n",
    "\n",
    "sum = 0\n",
    "while num > 0:\n",
    "    r = num%10    \n",
    "    sum += (r**3)    \n",
    "    num = int(num/10)\n",
    "    \n",
    "if originalNo == sum:\n",
    "    print(f\"Number {originalNo} is an Armstrong\")\n",
    "else:\n",
    "    print(f\"Number {originalNo} is not an Armstrong\")"
   ]
  },
  {
   "cell_type": "markdown",
   "metadata": {},
   "source": [
    "### 5.\tWrite a Python Program to Find Armstrong Number in an Interval?"
   ]
  },
  {
   "cell_type": "code",
   "execution_count": 37,
   "metadata": {},
   "outputs": [
    {
     "name": "stdout",
     "output_type": "stream",
     "text": [
      "Enter a start no : 10\n",
      "Enter a end no : 500\n",
      "Armstrong Number in an internal (10,500) as [153, 370, 371, 407]\n"
     ]
    }
   ],
   "source": [
    "# Take interval range, lower and upper limit from user\n",
    "start = int(input(\"Enter a start no : \"))\n",
    "end = int(input(\"Enter a end no : \"))\n",
    "\n",
    "listOfArmstongNos = []\n",
    "for no in range(start, end+1):\n",
    "    sum = 0\n",
    "    num = no\n",
    "    \n",
    "    while no > 0:\n",
    "        r = no%10\n",
    "        sum += r**3\n",
    "        no = int(no/10)\n",
    "    else:\n",
    "        if num == sum:\n",
    "            listOfArmstongNos.append(num)\n",
    "\n",
    "print(f\"Armstrong Number in an internal ({start},{end}) as {listOfArmstongNos}\")\n"
   ]
  },
  {
   "cell_type": "markdown",
   "metadata": {},
   "source": [
    "### 6.\tWrite a Python Program to Find the Sum of Natural Numbers?"
   ]
  },
  {
   "cell_type": "code",
   "execution_count": 51,
   "metadata": {},
   "outputs": [
    {
     "name": "stdout",
     "output_type": "stream",
     "text": [
      "Enter a number : 10\n",
      "Sum of first 10 natural numbers as 55\n"
     ]
    }
   ],
   "source": [
    "# Take a number from user\n",
    "num = int(input(\"Enter a number : \"))\n",
    "\n",
    "if num <= 0:\n",
    "    print(f\"Enter a valid number\")\n",
    "else:\n",
    "    sum = 0\n",
    "    for item in range(1, num+1):\n",
    "        sum += item\n",
    "    \n",
    "    print(f\"Sum of first {num} natural numbers as {sum}\")"
   ]
  },
  {
   "cell_type": "code",
   "execution_count": null,
   "metadata": {},
   "outputs": [],
   "source": []
  }
 ],
 "metadata": {
  "kernelspec": {
   "display_name": "Python 3",
   "language": "python",
   "name": "python3"
  },
  "language_info": {
   "codemirror_mode": {
    "name": "ipython",
    "version": 3
   },
   "file_extension": ".py",
   "mimetype": "text/x-python",
   "name": "python",
   "nbconvert_exporter": "python",
   "pygments_lexer": "ipython3",
   "version": "3.8.3rc1"
  }
 },
 "nbformat": 4,
 "nbformat_minor": 4
}
