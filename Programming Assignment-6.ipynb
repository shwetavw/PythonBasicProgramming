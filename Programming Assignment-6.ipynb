{
 "cells": [
  {
   "cell_type": "markdown",
   "metadata": {},
   "source": [
    "# Programming Assignment-6"
   ]
  },
  {
   "cell_type": "markdown",
   "metadata": {},
   "source": [
    "### 1.\tWrite a Python Program to Display Fibonacci Sequence Using Recursion?"
   ]
  },
  {
   "cell_type": "code",
   "execution_count": 3,
   "metadata": {},
   "outputs": [
    {
     "name": "stdout",
     "output_type": "stream",
     "text": [
      "Enter number of terms : 10\n",
      "Fibonacci sequence of 10 terms as : \n",
      "0 1 1 2 3 5 8 13 21 34 55 "
     ]
    }
   ],
   "source": [
    "#create a function to return fibonacci sequence\n",
    "def Get_Fibonacci_Sequence(num):\n",
    "    if num == 0 or num == 1:\n",
    "        return num\n",
    "    else:\n",
    "        return Get_Fibonacci_Sequence(num-1) + Get_Fibonacci_Sequence(num-2)\n",
    "\n",
    "# Take number of terms from user\n",
    "nterm = int(input(\"Enter number of terms : \"))\n",
    "\n",
    "print(f\"Fibonacci sequence of {nterm} terms as : \")\n",
    "for i in range(0, nterm+1):\n",
    "    print(Get_Fibonacci_Sequence(i), end=\" \")"
   ]
  },
  {
   "cell_type": "markdown",
   "metadata": {},
   "source": [
    "### 2.\tWrite a Python Program to Find Factorial of Number Using Recursion?"
   ]
  },
  {
   "cell_type": "code",
   "execution_count": 28,
   "metadata": {},
   "outputs": [
    {
     "name": "stdout",
     "output_type": "stream",
     "text": [
      "Enter a number : 6\n",
      "Factorial of 6 is 720\n"
     ]
    }
   ],
   "source": [
    "# Create a function to get factorial of a number\n",
    "def Get_Factorial(num):\n",
    "    if num == 0:\n",
    "        return 1\n",
    "    else:        \n",
    "        return num * Get_Factorial(num-1)\n",
    "\n",
    "\n",
    "# Take a number from user\n",
    "num = int(input(\"Enter a number : \"))\n",
    "\n",
    "if num < 0:\n",
    "    print(f\"Invalid input, enter a positive number\")\n",
    "else:\n",
    "    print(f\"Factorial of {num} is {Get_Factorial(num)}\")"
   ]
  },
  {
   "cell_type": "markdown",
   "metadata": {},
   "source": [
    "### 3.\tWrite a Python Program to calculate your Body Mass Index?"
   ]
  },
  {
   "cell_type": "code",
   "execution_count": 37,
   "metadata": {},
   "outputs": [
    {
     "name": "stdout",
     "output_type": "stream",
     "text": [
      "Enter weight in kg : 58\n",
      "Enter height in cm : 162\n",
      "Your BMI is 22.1\n"
     ]
    }
   ],
   "source": [
    "# Take height and weight from user\n",
    "weight = int(input(\"Enter weight in kg : \"))\n",
    "height = int(input(\"Enter height in cm : \"))\n",
    "\n",
    "# BMI = weight in kg/square of height in m\n",
    "BMI = weight / ((height * 0.01) ** 2)\n",
    "print(f\"Your BMI is {BMI:0.1f}\")"
   ]
  },
  {
   "cell_type": "markdown",
   "metadata": {},
   "source": [
    "### 4.\tWrite a Python Program to calculate the natural logarithm of any number?"
   ]
  },
  {
   "cell_type": "code",
   "execution_count": 32,
   "metadata": {},
   "outputs": [
    {
     "name": "stdout",
     "output_type": "stream",
     "text": [
      "Enter a number : 5\n",
      "The natural logarithm of 5 is 1.6094379124341003\n"
     ]
    }
   ],
   "source": [
    "# Import math module\n",
    "import math\n",
    "\n",
    "# Take a number from user\n",
    "num = int(input(\"Enter a number : \"))\n",
    "\n",
    "print(f\"The natural logarithm of {num} is {math.log(num)}\")"
   ]
  },
  {
   "cell_type": "markdown",
   "metadata": {},
   "source": [
    "### 5.\tWrite a Python Program for cube sum of first n natural numbers?"
   ]
  },
  {
   "cell_type": "code",
   "execution_count": 36,
   "metadata": {},
   "outputs": [
    {
     "name": "stdout",
     "output_type": "stream",
     "text": [
      "Enter the first nth number : 4\n",
      "The cube sum of first 4 natural numbers is 100\n"
     ]
    }
   ],
   "source": [
    "# Create a function to get cum sum of first n numbers\n",
    "def Get_Sum_Of_N_Numbers(num):\n",
    "    sum = 0\n",
    "    for i in range(1, num+1):        \n",
    "        sum += i**3\n",
    "    \n",
    "    return sum\n",
    "\n",
    "# Take a first nth number from user\n",
    "no = int(input(\"Enter the first nth number : \"))\n",
    "\n",
    "if no <= 0:\n",
    "    print(f\"Enter a valid number\")\n",
    "else:    \n",
    "    print(f\"The cube sum of first {no} natural numbers is {Get_Sum_Of_N_Numbers(no)}\")"
   ]
  },
  {
   "cell_type": "code",
   "execution_count": null,
   "metadata": {},
   "outputs": [],
   "source": []
  }
 ],
 "metadata": {
  "kernelspec": {
   "display_name": "Python 3",
   "language": "python",
   "name": "python3"
  },
  "language_info": {
   "codemirror_mode": {
    "name": "ipython",
    "version": 3
   },
   "file_extension": ".py",
   "mimetype": "text/x-python",
   "name": "python",
   "nbconvert_exporter": "python",
   "pygments_lexer": "ipython3",
   "version": "3.8.3rc1"
  }
 },
 "nbformat": 4,
 "nbformat_minor": 4
}
