{
 "cells": [
  {
   "cell_type": "markdown",
   "metadata": {},
   "source": [
    "# Programming Assignment-5"
   ]
  },
  {
   "cell_type": "markdown",
   "metadata": {},
   "source": [
    "### 1.\tWrite a Python Program to Find LCM?"
   ]
  },
  {
   "cell_type": "code",
   "execution_count": 52,
   "metadata": {},
   "outputs": [
    {
     "name": "stdout",
     "output_type": "stream",
     "text": [
      "Enter a first number : 10\n",
      "Enter a second number : 20\n",
      "LCM of 10 and 20 is 20\n"
     ]
    }
   ],
   "source": [
    "#Take two number from user\n",
    "n1 = int(input(\"Enter a first number : \"))\n",
    "n2 = int(input(\"Enter a second number : \"))\n",
    "\n",
    "#LCM is the smallest number which is divisible by both the numbers\n",
    "#get the max no out of both and loop until maxno divisible by both numbers\n",
    "maxno = n1 if n1 > n2 else n2\n",
    "\n",
    "while(True):\n",
    "    if maxno % n1 == 0 and maxno % n2 == 0:\n",
    "        lcm = maxno\n",
    "        break\n",
    "    maxno+=1\n",
    "    \n",
    "print(f\"LCM of {n1} and {n2} is {lcm}\")"
   ]
  },
  {
   "cell_type": "markdown",
   "metadata": {},
   "source": [
    "### 2.\tWrite a Python Program to Find HCF?"
   ]
  },
  {
   "cell_type": "code",
   "execution_count": 51,
   "metadata": {},
   "outputs": [
    {
     "name": "stdout",
     "output_type": "stream",
     "text": [
      "Enter a first number : 10\n",
      "Enter a second number : 20\n",
      "HCF of 10 and 20 is 10\n"
     ]
    }
   ],
   "source": [
    "#Take two number from user\n",
    "n1 = int(input(\"Enter a first number : \"))\n",
    "n2 = int(input(\"Enter a second number : \"))\n",
    "\n",
    "#HCF is the largest number which completely divides both the numbers\n",
    "#get the min no out of both and loop until both the numbers completely divisible by minno\n",
    "minno = n1 if n1 < n2 else n2\n",
    "\n",
    "hcf = 1\n",
    "while(minno > 0):\n",
    "    if n1 % minno == 0 and n2 % minno == 0:\n",
    "        hcf = minno\n",
    "        break\n",
    "    minno-=1\n",
    "    \n",
    "print(f\"HCF of {n1} and {n2} is {hcf}\")"
   ]
  },
  {
   "cell_type": "markdown",
   "metadata": {},
   "source": [
    "### 3.\tWrite a Python Program to Convert Decimal to Binary, Octal and Hexadecimal?"
   ]
  },
  {
   "cell_type": "code",
   "execution_count": 19,
   "metadata": {},
   "outputs": [
    {
     "name": "stdout",
     "output_type": "stream",
     "text": [
      "Enter a number : 10\n",
      "Binary representation of 10 is 0b1010\n",
      "Octal representation of 10 is 0o12\n",
      "Hexadecimal representation of 10 is 0xa\n"
     ]
    }
   ],
   "source": [
    "#Take number from user\n",
    "num = int(input(\"Enter a number : \"))\n",
    "\n",
    "print(f\"Binary representation of {num} is {bin(num)}\")\n",
    "print(f\"Octal representation of {num} is {oct(num)}\")\n",
    "print(f\"Hexadecimal representation of {num} is {hex(num)}\")"
   ]
  },
  {
   "cell_type": "markdown",
   "metadata": {},
   "source": [
    "### 4.\tWrite a Python Program To Find ASCII value of a character?"
   ]
  },
  {
   "cell_type": "code",
   "execution_count": 34,
   "metadata": {},
   "outputs": [
    {
     "name": "stdout",
     "output_type": "stream",
     "text": [
      "Enter a character : s\n",
      "ASCII value of char 's' is 115\n"
     ]
    }
   ],
   "source": [
    "# Take a char from user\n",
    "char = input(\"Enter a character : \")\n",
    "\n",
    "if len(char) > 1:\n",
    "    print(\"Invalid input, enter a character.\")\n",
    "else:\n",
    "    print(f\"ASCII value of char \\'{char}\\' is {ord(char)}\")"
   ]
  },
  {
   "cell_type": "markdown",
   "metadata": {},
   "source": [
    "### 5.\tWrite a Python Program to Make a Simple Calculator with 4 basic mathematical operations?"
   ]
  },
  {
   "cell_type": "code",
   "execution_count": 48,
   "metadata": {},
   "outputs": [
    {
     "name": "stdout",
     "output_type": "stream",
     "text": [
      "This is simple calculator which allows to perform addition(+), subtraction(-), multiplication(*) and division(/)\n",
      "Enter a first number : 3\n",
      "Enter operator (+ or - or * or /)/\n",
      "Enter a second number : 0\n",
      "Error\n"
     ]
    }
   ],
   "source": [
    "# Simple Calculator with 4 basic mathematical operations\n",
    "print(\"This is simple calculator which allows to perform addition(+), subtraction(-), multiplication(*) and division(/)\")\n",
    "n1 = int(input(\"Enter a first number : \"))\n",
    "op = input(\"Enter operator (+ or - or * or /)\")\n",
    "n2 = int(input(\"Enter a second number : \"))\n",
    "\n",
    "list_of_operator = ['+', '-', '*', '/']\n",
    "result = -1\n",
    "if op in list_of_operator:   \n",
    "    if op == '+':\n",
    "        result = n1 + n2\n",
    "    elif op == '-':\n",
    "        result = n1 - n2\n",
    "    elif op == '*':\n",
    "        result = n1 * n2\n",
    "    elif op == '/' and n2 != 0:\n",
    "        result = n1 / n2\n",
    "    else:\n",
    "        pass\n",
    "    \n",
    "    print(\"Error\") if result < 0 else print(f\"{n1} {op} {n2} is {result}\")    \n",
    "else:\n",
    "    print(\"Invalid operator, enter a valid operator (+ or - or * or /) and try again!\")\n"
   ]
  },
  {
   "cell_type": "code",
   "execution_count": null,
   "metadata": {},
   "outputs": [],
   "source": []
  }
 ],
 "metadata": {
  "kernelspec": {
   "display_name": "Python 3",
   "language": "python",
   "name": "python3"
  },
  "language_info": {
   "codemirror_mode": {
    "name": "ipython",
    "version": 3
   },
   "file_extension": ".py",
   "mimetype": "text/x-python",
   "name": "python",
   "nbconvert_exporter": "python",
   "pygments_lexer": "ipython3",
   "version": "3.8.3rc1"
  }
 },
 "nbformat": 4,
 "nbformat_minor": 4
}
