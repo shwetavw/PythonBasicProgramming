{
 "cells": [
  {
   "cell_type": "markdown",
   "metadata": {},
   "source": [
    "# Programming Assignment-1"
   ]
  },
  {
   "cell_type": "markdown",
   "metadata": {},
   "source": [
    "### 1.\tWrite a Python program to print \"Hello Python\"?"
   ]
  },
  {
   "cell_type": "code",
   "execution_count": 2,
   "metadata": {},
   "outputs": [
    {
     "name": "stdout",
     "output_type": "stream",
     "text": [
      "Hello Python\n"
     ]
    }
   ],
   "source": [
    "# Program to print Hello Python\n",
    "print(\"Hello Python\")"
   ]
  },
  {
   "cell_type": "markdown",
   "metadata": {},
   "source": [
    "### 2.\tWrite a Python program to do arithmetical operations addition and division.?"
   ]
  },
  {
   "cell_type": "code",
   "execution_count": 4,
   "metadata": {},
   "outputs": [
    {
     "name": "stdout",
     "output_type": "stream",
     "text": [
      "Enter a first number : 20\n",
      "Enter a second number : 10\n",
      "Addition of 20 and 10 is 30\n",
      "Division of 20 and 10 is 2.0\n"
     ]
    }
   ],
   "source": [
    "# Take 2 numbers as an user input\n",
    "num1 = int(input(\"Enter a first number : \"))\n",
    "num2 = int(input(\"Enter a second number : \"))\n",
    "\n",
    "addition = num1 + num2\n",
    "print(f\"Addition of {num1} and {num2} is {addition}\")\n",
    "\n",
    "try:\n",
    "    division = num1/num2\n",
    "    print(f\"Division of {num1} and {num2} is {division}\")\n",
    "except ArithmeticError as ae:\n",
    "    print(f\"Error in division operation : {ae}\")"
   ]
  },
  {
   "cell_type": "markdown",
   "metadata": {},
   "source": [
    "### 3.\tWrite a Python program to find the area of a triangle?"
   ]
  },
  {
   "cell_type": "code",
   "execution_count": 7,
   "metadata": {},
   "outputs": [
    {
     "name": "stdout",
     "output_type": "stream",
     "text": [
      "Enter first side of triangle : 3\n",
      "Enter second side of triangle : 5\n",
      "Enter third side of triangle : 7\n",
      "Area of triangle where three sides 3.0, 5.0, 7.0 is 6.50\n"
     ]
    }
   ],
   "source": [
    "# Take 3 sides of triangle as an user input\n",
    "a = float(input(\"Enter first side of triangle : \"))\n",
    "b = float(input(\"Enter second side of triangle : \"))\n",
    "c = float(input(\"Enter third side of triangle : \"))\n",
    "\n",
    "# Semi perimeter of trianle\n",
    "semiPerimeter = (a + b + c)/ 2\n",
    "\n",
    "# Area of trianlge\n",
    "areaOfTriangle = (semiPerimeter * (semiPerimeter - a) * (semiPerimeter - b) * (semiPerimeter - c)) ** 0.5\n",
    "\n",
    "print (f\"Area of triangle where three sides {a}, {b}, {c} is {areaOfTriangle:0.2f}\")\n"
   ]
  },
  {
   "cell_type": "markdown",
   "metadata": {},
   "source": [
    "### 4. Write a Python program to swap two variables?"
   ]
  },
  {
   "cell_type": "code",
   "execution_count": 6,
   "metadata": {},
   "outputs": [
    {
     "name": "stdout",
     "output_type": "stream",
     "text": [
      "Value of variable 1 and 2 before swapping as 25, 50\n",
      "Value of variable 1 and 2 after swapping as 50, 25\n"
     ]
    }
   ],
   "source": [
    "# Take 2 variables\n",
    "var1 = 25\n",
    "var2 = 50\n",
    "print(f\"Value of variable 1 and 2 before swapping as {var1}, {var2}\")\n",
    "\n",
    "# swap two variables\n",
    "temp = var1\n",
    "var1 = var2\n",
    "var2 = temp\n",
    "\n",
    "print(f\"Value of variable 1 and 2 after swapping as {var1}, {var2}\")\n"
   ]
  },
  {
   "cell_type": "markdown",
   "metadata": {},
   "source": [
    "### 5. Write a Python program to generate a random number?"
   ]
  },
  {
   "cell_type": "code",
   "execution_count": 8,
   "metadata": {},
   "outputs": [
    {
     "name": "stdout",
     "output_type": "stream",
     "text": [
      "Random number is 0.8822284891658022\n"
     ]
    }
   ],
   "source": [
    "# Import random module to generate random number in python\n",
    "import random\n",
    "\n",
    "print(f\"Random number is {random.random()}\")"
   ]
  },
  {
   "cell_type": "code",
   "execution_count": null,
   "metadata": {},
   "outputs": [],
   "source": []
  }
 ],
 "metadata": {
  "kernelspec": {
   "display_name": "Python 3",
   "language": "python",
   "name": "python3"
  },
  "language_info": {
   "codemirror_mode": {
    "name": "ipython",
    "version": 3
   },
   "file_extension": ".py",
   "mimetype": "text/x-python",
   "name": "python",
   "nbconvert_exporter": "python",
   "pygments_lexer": "ipython3",
   "version": "3.8.3rc1"
  }
 },
 "nbformat": 4,
 "nbformat_minor": 4
}
