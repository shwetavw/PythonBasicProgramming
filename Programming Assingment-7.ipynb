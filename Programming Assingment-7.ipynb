{
 "cells": [
  {
   "cell_type": "markdown",
   "metadata": {},
   "source": [
    "# Programming Assignment-7"
   ]
  },
  {
   "cell_type": "markdown",
   "metadata": {},
   "source": [
    "### 1.\tWrite a Python Program to find sum of array?"
   ]
  },
  {
   "cell_type": "code",
   "execution_count": 15,
   "metadata": {},
   "outputs": [
    {
     "name": "stdout",
     "output_type": "stream",
     "text": [
      "Enter no of elements in array : 3\n",
      "Enter 0th element in array : 2\n",
      "Enter 1th element in array : 4\n",
      "Enter 2th element in array : 6\n",
      "The sum of array is 12\n"
     ]
    }
   ],
   "source": [
    "# Create a function to get sum of array\n",
    "def Sum_Of_Array(arr):\n",
    "    sum = 0    \n",
    "    for item in arr:\n",
    "        sum += item\n",
    "        \n",
    "    return sum\n",
    "\n",
    "# Take array from user\n",
    "arrSize = int(input(\"Enter no of elements in array : \"))\n",
    "\n",
    "if arrSize <= 0:    \n",
    "    print(\"No of elements in array should be greater than zero. try again!\")\n",
    "else:\n",
    "    arr = []\n",
    "    for i in range(arrSize):\n",
    "        arr.append((int(input(f\"Enter {i}th element in array : \"))))\n",
    "\n",
    "    # Call function\n",
    "    print(f\"The sum of array is {Sum_Of_Array(arr)}\")"
   ]
  },
  {
   "cell_type": "markdown",
   "metadata": {},
   "source": [
    "### 2.\tWrite a Python Program to find largest element in an array?"
   ]
  },
  {
   "cell_type": "code",
   "execution_count": 17,
   "metadata": {},
   "outputs": [
    {
     "name": "stdout",
     "output_type": "stream",
     "text": [
      "Enter no of elements in array : 5\n",
      "Enter 0th element in array : 3\n",
      "Enter 1th element in array : 5\n",
      "Enter 2th element in array : 2\n",
      "Enter 3th element in array : 6\n",
      "Enter 4th element in array : 1\n",
      "The largest element in array is 6\n"
     ]
    }
   ],
   "source": [
    "# Create a function to get largest element from array\n",
    "def Get_Largest_Element(arr):\n",
    "    largest = arr[0]\n",
    "    for item in arr:\n",
    "        if largest < item:\n",
    "            largest = item\n",
    "    \n",
    "    return largest\n",
    "\n",
    "# Take array from user\n",
    "arrSize = int(input(\"Enter no of elements in array : \"))\n",
    "\n",
    "if arrSize <= 0:    \n",
    "    print(\"No of elements in array should be greater than zero. try again!\")\n",
    "else:\n",
    "    arr = []\n",
    "    for i in range(arrSize):\n",
    "        arr.append((int(input(f\"Enter {i}th element in array : \"))))\n",
    "\n",
    "    # Call function\n",
    "    print(f\"The largest element in array is {Get_Largest_Element(arr)}\")"
   ]
  },
  {
   "cell_type": "markdown",
   "metadata": {},
   "source": [
    "### 3.\tWrite a Python Program for array rotation?"
   ]
  },
  {
   "cell_type": "code",
   "execution_count": 20,
   "metadata": {},
   "outputs": [
    {
     "name": "stdout",
     "output_type": "stream",
     "text": [
      "Enter no of elements in array : 7\n",
      "Enter 0th element in array : 3\n",
      "Enter 1th element in array : 5\n",
      "Enter 2th element in array : 7\n",
      "Enter 3th element in array : 9\n",
      "Enter 4th element in array : 2\n",
      "Enter 5th element in array : 4\n",
      "Enter 6th element in array : 6\n",
      "Enter position to rotate array by given position : 3\n",
      "Original array is [3, 5, 7, 9, 2, 4, 6]\n",
      "Array after rotation is [9, 2, 4, 6, 3, 7, 5]\n"
     ]
    }
   ],
   "source": [
    "# Create a function to rotate an array\n",
    "def Rotate_Array(arr, pos):\n",
    "    l = len(arr)\n",
    "    tempArr = arr[:pos]\n",
    "\n",
    "    arr = [arr[i+pos] if i < l-pos else tempArr[l-(i+pos)] for i in range(l)]\n",
    "    return arr\n",
    "\n",
    "# Take array from user\n",
    "arrSize = int(input(\"Enter no of elements in array : \"))\n",
    "\n",
    "if arrSize <= 0:    \n",
    "    print(\"No of elements in array should be greater than zero. try again!\")\n",
    "else:\n",
    "    arr = []\n",
    "    for i in range(arrSize):\n",
    "        arr.append((int(input(f\"Enter {i}th element in array : \"))))\n",
    "\n",
    "    pos = int(input(\"Enter position to rotate array by given position : \"))\n",
    "\n",
    "    if (pos <= 0 or pos > len(arr)-1):\n",
    "        print(f\"Position should be lies between 1 to {len(arr)}, try again!\")\n",
    "        del arr\n",
    "    else:    \n",
    "        print(f\"Original array is {arr}\")    \n",
    "        print(f\"Array after rotation is {Rotate_Array(arr, pos)}\")    \n"
   ]
  },
  {
   "cell_type": "markdown",
   "metadata": {},
   "source": [
    "### 4.\tWrite a Python Program to Split the array and add the first part to the end?"
   ]
  },
  {
   "cell_type": "code",
   "execution_count": 23,
   "metadata": {},
   "outputs": [
    {
     "name": "stdout",
     "output_type": "stream",
     "text": [
      "Enter no of elements in array : 9\n",
      "Enter 0th element in array : 11\n",
      "Enter 1th element in array : 22\n",
      "Enter 2th element in array : 33\n",
      "Enter 3th element in array : 44\n",
      "Enter 4th element in array : 55\n",
      "Enter 5th element in array : 66\n",
      "Enter 6th element in array : 77\n",
      "Enter 7th element in array : 88\n",
      "Enter 8th element in array : 99\n",
      "Enter position to split array : 4\n",
      "Original array is [11, 22, 33, 44, 55, 66, 77, 88, 99]\n",
      "Array after spliting is [55, 66, 77, 88, 99, 11, 22, 33, 44]\n"
     ]
    }
   ],
   "source": [
    "# Create a function to rotate an array\n",
    "def Split_Array(arr, idx):\n",
    "    return arr[idx: ] + arr[:idx]\n",
    "\n",
    "# Take array and position to split array from user\n",
    "arrSize = int(input(\"Enter no of elements in array : \"))\n",
    "\n",
    "if arrSize <= 0:    \n",
    "    print(\"No of elements in array should be greater than zero. try again!\")\n",
    "else:\n",
    "    arr = []\n",
    "    for i in range(arrSize):\n",
    "        arr.append((int(input(f\"Enter {i}th element in array : \"))))\n",
    "\n",
    "    pos = int(input(\"Enter position to split array : \"))\n",
    "\n",
    "    if (pos <= 0 or pos > len(arr)-1):\n",
    "        print(f\"Position should be lies between 1 to {len(arr)}, try again!\")\n",
    "        del arr\n",
    "    else:    \n",
    "        print(f\"Original array is {arr}\")\n",
    "        print(f\"Array after spliting is {Split_Array(arr, pos)}\")"
   ]
  },
  {
   "cell_type": "markdown",
   "metadata": {},
   "source": [
    "### 5.\tWrite a Python Program to check if given array is Monotonic?"
   ]
  },
  {
   "cell_type": "code",
   "execution_count": 27,
   "metadata": {},
   "outputs": [
    {
     "name": "stdout",
     "output_type": "stream",
     "text": [
      "Enter no of elements in array : 5\n",
      "Enter 0th element in array : 1\n",
      "Enter 1th element in array : 3\n",
      "Enter 2th element in array : 2\n",
      "Enter 3th element in array : 4\n",
      "Enter 4th element in array : 6\n",
      "The given array is Not Monotonic\n"
     ]
    }
   ],
   "source": [
    "# Create a function to check if array is monotonic or not\n",
    "def Is_Monotonic(arr):\n",
    "    isIMonotonic = True\n",
    "    isDMonotonic = True\n",
    "    \n",
    "    for i in range(len(arr)-1):\n",
    "        if isIMonotonic or isDMonotonic:\n",
    "            isIMonotonic = True if arr[i] <= arr[i+1] and isIMonotonic else False\n",
    "            isDMonotonic = True if arr[i] >= arr[i+1] and isDMonotonic else False\n",
    "        else:\n",
    "            break       \n",
    "    \n",
    "    return isIMonotonic or isDMonotonic\n",
    "        \n",
    "    \n",
    "# Take array from user\n",
    "arrSize = int(input(\"Enter no of elements in array : \"))\n",
    "\n",
    "if arrSize <= 0:    \n",
    "    print(\"No of elements in array should be greater than zero. try again!\")\n",
    "else:\n",
    "    arr = []\n",
    "    for i in range(arrSize):\n",
    "        arr.append((int(input(f\"Enter {i}th element in array : \"))))\n",
    "\n",
    "    # Call function \n",
    "    print(f\"The given array is {'Monotonic' if Is_Monotonic(arr) else 'Not Monotonic'}\")"
   ]
  },
  {
   "cell_type": "code",
   "execution_count": null,
   "metadata": {},
   "outputs": [],
   "source": []
  }
 ],
 "metadata": {
  "kernelspec": {
   "display_name": "Python 3",
   "language": "python",
   "name": "python3"
  }
 },
 "nbformat": 4,
 "nbformat_minor": 4
}
